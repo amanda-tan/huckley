{
 "cells": [
  {
   "cell_type": "code",
   "execution_count": 14,
   "metadata": {
    "collapsed": true
   },
   "outputs": [],
   "source": [
    "import matplotlib.image as mpimg\n",
    "import matplotlib.pyplot as plt\n",
    "import pandas as pd\n",
    "import numpy as np\n",
    "import xarray\n",
    "import xarray.ufuncs as xu\n",
    "import dask\n",
    "import seaborn as sn\n",
    "from datetime import datetime\n",
    "from dask.diagnostics import ProgressBar\n",
    "import dask\n",
    "import warnings\n",
    "import os\n",
    "import scipy\n",
    "from pytz import timezone\n",
    "import re"
   ]
  },
  {
   "cell_type": "code",
   "execution_count": null,
   "metadata": {
    "collapsed": true
   },
   "outputs": [],
   "source": [
    "ds = xarray.open_dataset('/home/araldif/huckley/files/past_1980_Tsurface.nc')\n",
    "ds.__delitem__('soil_mic')\n",
    "ds.__delitem__('soil_wrf')\n",
    "dsDates = ds.time.to_series()\n",
    "subset = ds.sel(shade=0.0)\n",
    "dsTsurf = xarray.Dataset({'Tsurf': (['time','south_north','west_east'], subset.Tsurface.values)}, coords = {'longitude': (['south_north','west_east'], ds.lon.values),\n",
    "                                           'latitude': (['south_north','west_east'], ds.lat.values),\n",
    "                                           'time': xarray.DataArray.from_series(dsDates).values, 'shade': ds.shade.values})"
   ]
  },
  {
   "cell_type": "code",
   "execution_count": 23,
   "metadata": {
    "collapsed": true
   },
   "outputs": [],
   "source": [
    "ds = xarray.open_dataset('/datadrive/huckley/files/new_1981_Tsurface.nc')"
   ]
  },
  {
   "cell_type": "code",
   "execution_count": 24,
   "metadata": {
    "collapsed": true
   },
   "outputs": [],
   "source": [
    "ds['time'] = ds['time'].astype(int)"
   ]
  },
  {
   "cell_type": "code",
   "execution_count": 25,
   "metadata": {
    "collapsed": true
   },
   "outputs": [],
   "source": [
    "ds['time'] = pd.to_datetime(ds['time'],format='%Y%m%d%H')"
   ]
  },
  {
   "cell_type": "code",
   "execution_count": 26,
   "metadata": {
    "collapsed": false
   },
   "outputs": [],
   "source": [
    "ds.to_netcdf('./files/1981_Tsurface_fixed.nc')"
   ]
  },
  {
   "cell_type": "code",
   "execution_count": 27,
   "metadata": {
    "collapsed": true
   },
   "outputs": [],
   "source": [
    "concatenated_files = xarray.open_mfdataset('/datadrive/huckley/files/*_Tsurface_fixed.nc', concat_dim='time')"
   ]
  },
  {
   "cell_type": "code",
   "execution_count": 28,
   "metadata": {
    "collapsed": true
   },
   "outputs": [],
   "source": [
    "concatenated_files.to_netcdf('./concatenate_test.nc')"
   ]
  },
  {
   "cell_type": "code",
   "execution_count": 29,
   "metadata": {
    "collapsed": false
   },
   "outputs": [
    {
     "data": {
      "text/plain": [
       "<xarray.Dataset>\n",
       "Dimensions:      (shade: 5, south_north: 129, time: 26280, west_east: 199)\n",
       "Coordinates:\n",
       "    longitude    (south_north, west_east) float64 -131.4 -131.1 -130.8 ...\n",
       "    latitude     (south_north, west_east) float64 12.36 12.45 12.54 12.64 ...\n",
       "  * shade        (shade) float64 0.0 25.0 50.0 75.0 100.0\n",
       "  * south_north  (south_north) int64 0 1 2 3 4 5 6 7 8 9 10 11 12 13 14 15 ...\n",
       "  * west_east    (west_east) int64 0 1 2 3 4 5 6 7 8 9 10 11 12 13 14 15 16 ...\n",
       "  * time         (time) datetime64[ns] 1980-01-01T01:00:00 ...\n",
       "Data variables:\n",
       "    Tsurf        (time, south_north, west_east) float64 nan nan nan nan nan ..."
      ]
     },
     "execution_count": 29,
     "metadata": {},
     "output_type": "execute_result"
    }
   ],
   "source": [
    "concatenated_files"
   ]
  },
  {
   "cell_type": "code",
   "execution_count": 30,
   "metadata": {
    "collapsed": true
   },
   "outputs": [],
   "source": [
    "bb = {'minLong':-119.5, 'maxLong':-119.13, 'minLat': 37.66, 'maxLat':38.03}\n",
    "long = concatenated_files.coords['longitude'].values\n",
    "lat = concatenated_files.coords['latitude'].values"
   ]
  },
  {
   "cell_type": "code",
   "execution_count": 31,
   "metadata": {
    "collapsed": true
   },
   "outputs": [],
   "source": [
    "xycord = np.where( (long > bb['minLong'] ) & (long < bb['maxLong']) & (lat > bb['minLat']) & (lat < bb['maxLat']))\n",
    "xcord = xycord[:][0]\n",
    "ycord = xycord[:][1]"
   ]
  },
  {
   "cell_type": "code",
   "execution_count": 32,
   "metadata": {
    "collapsed": true
   },
   "outputs": [],
   "source": [
    "reduced_ds = concatenated_files.isel(south_north=xcord, west_east=ycord)"
   ]
  },
  {
   "cell_type": "code",
   "execution_count": 33,
   "metadata": {
    "collapsed": false
   },
   "outputs": [
    {
     "data": {
      "text/plain": [
       "<xarray.Dataset>\n",
       "Dimensions:      (shade: 5, south_north: 1, time: 26280, west_east: 1)\n",
       "Coordinates:\n",
       "    longitude    (south_north, west_east) float64 -119.3\n",
       "    latitude     (south_north, west_east) float64 37.85\n",
       "  * shade        (shade) float64 0.0 25.0 50.0 75.0 100.0\n",
       "  * south_north  (south_north) int64 68\n",
       "  * west_east    (west_east) int64 53\n",
       "  * time         (time) datetime64[ns] 1980-01-01T01:00:00 ...\n",
       "Data variables:\n",
       "    Tsurf        (time, south_north, west_east) float64 270.5 269.6 268.9 ..."
      ]
     },
     "execution_count": 33,
     "metadata": {},
     "output_type": "execute_result"
    }
   ],
   "source": [
    "reduced_ds"
   ]
  },
  {
   "cell_type": "code",
   "execution_count": null,
   "metadata": {
    "collapsed": true
   },
   "outputs": [],
   "source": []
  }
 ],
 "metadata": {
  "kernelspec": {
   "display_name": "Python 3",
   "language": "python",
   "name": "python3"
  },
  "language_info": {
   "codemirror_mode": {
    "name": "ipython",
    "version": 3
   },
   "file_extension": ".py",
   "mimetype": "text/x-python",
   "name": "python",
   "nbconvert_exporter": "python",
   "pygments_lexer": "ipython3",
   "version": "3.5.1"
  }
 },
 "nbformat": 4,
 "nbformat_minor": 0
}
