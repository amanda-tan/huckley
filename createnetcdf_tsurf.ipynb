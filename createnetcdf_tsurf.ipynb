{
 "cells": [
  {
   "cell_type": "code",
   "execution_count": 1,
   "metadata": {
    "collapsed": true
   },
   "outputs": [],
   "source": [
    "import matplotlib.image as mpimg\n",
    "import matplotlib.pyplot as plt\n",
    "import pandas as pd\n",
    "import numpy as np\n",
    "import xarray\n",
    "import xarray.ufuncs as xu\n",
    "import dask\n",
    "import seaborn as sn\n",
    "from datetime import datetime\n",
    "from dask.diagnostics import ProgressBar\n",
    "import dask\n",
    "import warnings\n",
    "import os\n",
    "import scipy\n",
    "from pytz import timezone\n",
    "import re\n",
    "\n",
    "western = timezone('US/Pacific')\n",
    "utc = timezone('UTC')"
   ]
  },
  {
   "cell_type": "code",
   "execution_count": 6,
   "metadata": {
    "collapsed": false
   },
   "outputs": [],
   "source": [
    "ds = xarray.open_dataset('/home/araldif/huckley/past_1982_Tsurface.nc')\n",
    "ds.__delitem__('soil_mic')\n",
    "ds.__delitem__('soil_wrf')\n",
    "dsDates = ds.time.to_series()\n",
    "dsTsurf = xarray.Dataset({'Tsurf': (['shade','time','x','y'], ds.Tsurface.values)}, coords = {'longitude': (['x','y'], ds.lon.values),\n",
    "                                           'latitude': (['x','y'], ds.lat.values),\n",
    "                                           'time': xarray.DataArray.from_series(dsDates).values})"
   ]
  },
  {
   "cell_type": "code",
   "execution_count": 7,
   "metadata": {
    "collapsed": false
   },
   "outputs": [],
   "source": [
    "ds.to_netcdf('new_1982_Tsurface.nc')"
   ]
  },
  {
   "cell_type": "code",
   "execution_count": null,
   "metadata": {
    "collapsed": true
   },
   "outputs": [],
   "source": []
  }
 ],
 "metadata": {
  "kernelspec": {
   "display_name": "Python 3",
   "language": "python",
   "name": "python3"
  },
  "language_info": {
   "codemirror_mode": {
    "name": "ipython",
    "version": 3
   },
   "file_extension": ".py",
   "mimetype": "text/x-python",
   "name": "python",
   "nbconvert_exporter": "python",
   "pygments_lexer": "ipython3",
   "version": "3.5.1"
  }
 },
 "nbformat": 4,
 "nbformat_minor": 0
}
